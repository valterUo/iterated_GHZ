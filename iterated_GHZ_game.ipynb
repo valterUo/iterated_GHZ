{
 "cells": [
  {
   "cell_type": "markdown",
   "metadata": {},
   "source": [
    "# Iterated GHZ game\n",
    "To understand the idea behind the code, check the part \"Iterated GHZ.\" on page 6 in [Distributed Quantum Advantage for Local Problems](https://arxiv.org/pdf/2411.03240)."
   ]
  },
  {
   "cell_type": "code",
   "execution_count": 1,
   "metadata": {},
   "outputs": [],
   "source": [
    "from quantum import measure_and_update_density_matrix, GHZ\n",
    "\n",
    "class Game:\n",
    "\n",
    "    def __init__(self, color):\n",
    "        self.color = color\n",
    "        # GHZ state is the shared entangled state between the players\n",
    "        # In this implementation it is a global density matrix which is shared between three players\n",
    "        self.GHZ_state = GHZ()\n",
    "        self.input = [1, 0, 0]\n",
    "    \n",
    "    def get_input(self):\n",
    "        return self.input.pop(0)\n",
    "    \n",
    "    def update_state(self, input):\n",
    "        self.GHZ_state, result = measure_and_update_density_matrix(self.GHZ_state, input)\n",
    "        return result"
   ]
  },
  {
   "cell_type": "code",
   "execution_count": 2,
   "metadata": {},
   "outputs": [],
   "source": [
    "class Player:\n",
    "\n",
    "    def __init__(self, games):\n",
    "        self.games = games\n",
    "        self.result_bit_string = []\n",
    "        \n",
    "    def play(self):\n",
    "        for c in range(len(self.games)):\n",
    "            if c == 0:\n",
    "                # For the first round we distribute 1, 0, 0 as input\n",
    "                # \"The referee throws the ball to the game\"\n",
    "                input = self.games[c].get_input()\n",
    "                self.result_bit_string.append(input)\n",
    "            else:\n",
    "                # For the rest of the rounds we use the result from the previous round as input\n",
    "                # Players are playing the game\n",
    "                input = self.result_bit_string[-1]\n",
    "                result = self.games[c].update_state(input)\n",
    "                self.result_bit_string.append(result)"
   ]
  },
  {
   "cell_type": "code",
   "execution_count": 3,
   "metadata": {},
   "outputs": [],
   "source": [
    "def validate_result(bit_strings, number_of_colors):\n",
    "    for round in range(number_of_colors):\n",
    "        s = bit_strings[round][0]\n",
    "        t = bit_strings[round][1]\n",
    "        u = bit_strings[round][2]\n",
    "        prev_sum = 0\n",
    "        for color in range(number_of_colors):\n",
    "            sum_now = s[color] + t[color] + u[color]\n",
    "            if color == 0:\n",
    "                if sum_now != 1:\n",
    "                    return False\n",
    "            else:\n",
    "                if prev_sum == 0:\n",
    "                    if sum_now % 2 != 0:\n",
    "                        return False\n",
    "                elif prev_sum == 2:\n",
    "                    if sum_now % 2 != 1:\n",
    "                        return False\n",
    "            prev_sum = sum_now\n",
    "    return True            "
   ]
  },
  {
   "cell_type": "code",
   "execution_count": 4,
   "metadata": {},
   "outputs": [
    {
     "name": "stdout",
     "output_type": "stream",
     "text": [
      "[[1, 1, 0, 0, 1, 1, 0, 0, 0, 0, 0, 0], [0, 1, 1, 0, 0, 1, 1, 0, 0, 0, 0, 1], [0, 0, 0, 0, 1, 1, 0, 0, 0, 0, 0, 1]]\n",
      "[[1, 1, 1, 1, 0, 0, 0, 1, 0, 1, 0, 1], [0, 0, 0, 0, 1, 0, 1, 0, 0, 1, 0, 1], [0, 1, 0, 1, 0, 0, 1, 0, 1, 1, 0, 0]]\n",
      "[[1, 0, 1, 1, 1, 0, 1, 0, 0, 1, 0, 0], [0, 0, 1, 0, 1, 0, 0, 0, 1, 1, 0, 0], [0, 0, 0, 0, 0, 1, 1, 1, 1, 1, 1, 1]]\n",
      "[[1, 1, 1, 0, 1, 0, 0, 1, 0, 1, 1, 0], [0, 0, 0, 0, 0, 0, 0, 1, 0, 0, 1, 1], [0, 1, 0, 0, 1, 1, 1, 0, 1, 1, 1, 1]]\n",
      "[[1, 0, 1, 0, 0, 0, 0, 0, 0, 1, 1, 1], [0, 0, 0, 0, 1, 0, 0, 1, 0, 1, 1, 1], [0, 0, 1, 1, 0, 0, 0, 1, 1, 0, 1, 1]]\n",
      "[[1, 0, 0, 1, 1, 1, 0, 0, 1, 1, 1, 1], [0, 0, 0, 1, 0, 1, 1, 0, 1, 1, 1, 0], [0, 1, 1, 1, 0, 0, 0, 1, 1, 1, 1, 1]]\n",
      "[[1, 1, 1, 0, 1, 0, 1, 1, 1, 1, 0, 0], [0, 0, 1, 1, 0, 1, 1, 0, 0, 0, 1, 0], [0, 1, 1, 1, 0, 1, 1, 0, 0, 1, 0, 0]]\n",
      "[[1, 1, 1, 0, 1, 0, 0, 0, 1, 1, 0, 1], [0, 1, 1, 1, 0, 1, 1, 0, 1, 0, 0, 0], [0, 1, 0, 0, 0, 0, 1, 1, 0, 0, 1, 1]]\n",
      "[[1, 0, 0, 0, 0, 1, 1, 0, 0, 0, 1, 1], [0, 1, 0, 1, 0, 0, 1, 1, 0, 1, 0, 1], [0, 0, 0, 1, 1, 0, 1, 1, 1, 0, 0, 0]]\n",
      "[[1, 1, 1, 1, 1, 1, 0, 0, 1, 1, 1, 1], [0, 0, 1, 1, 1, 1, 1, 0, 1, 0, 1, 0], [0, 0, 0, 1, 0, 1, 1, 1, 0, 0, 0, 0]]\n",
      "[[1, 0, 0, 1, 1, 0, 0, 0, 0, 1, 1, 1], [0, 1, 1, 0, 0, 0, 0, 1, 0, 0, 1, 0], [0, 1, 0, 0, 0, 0, 0, 1, 1, 0, 1, 1]]\n",
      "[[1, 0, 1, 0, 0, 0, 1, 0, 0, 0, 0, 0], [0, 0, 1, 0, 1, 0, 1, 0, 0, 1, 0, 1], [0, 0, 0, 1, 0, 0, 0, 1, 0, 1, 1, 0]]\n",
      "Did players win the iterated GHZ:  True\n"
     ]
    }
   ],
   "source": [
    "# Run the game with different number of colors\n",
    "number_of_colors = 12\n",
    "\n",
    "# Set up the game and distribute one round of information\n",
    "players = []\n",
    "for c in range(number_of_colors):\n",
    "    games = [Game(color) for color in range(number_of_colors)]\n",
    "    players_for_color = [Player(games) for _ in range(3)]\n",
    "    players.append(players_for_color)\n",
    "\n",
    "# Let the players compute the results relying on the shared entangled states\n",
    "results = []\n",
    "for team in players:\n",
    "    mid_results = []\n",
    "    for player in team:\n",
    "        player.play()\n",
    "        mid_results.append(player.result_bit_string)\n",
    "    results.append(mid_results)\n",
    "\n",
    "for r in results:\n",
    "    print(r)\n",
    "\n",
    "print(\"Did players win the iterated GHZ: \", validate_result(results, number_of_colors))"
   ]
  }
 ],
 "metadata": {
  "kernelspec": {
   "display_name": "myenv",
   "language": "python",
   "name": "python3"
  },
  "language_info": {
   "codemirror_mode": {
    "name": "ipython",
    "version": 3
   },
   "file_extension": ".py",
   "mimetype": "text/x-python",
   "name": "python",
   "nbconvert_exporter": "python",
   "pygments_lexer": "ipython3",
   "version": "3.12.6"
  }
 },
 "nbformat": 4,
 "nbformat_minor": 2
}
